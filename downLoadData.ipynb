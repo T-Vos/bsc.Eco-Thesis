{
 "cells": [
  {
   "cell_type": "code",
   "execution_count": 4,
   "metadata": {},
   "outputs": [],
   "source": [
    "# import pandas as pd\n",
    "# from downloadFunctions.cryptokitties import Cryptokitties\n",
    "# from downloadFunctions.API_Opensea import Opensea\n",
    "# from downloadFunctions.API_Atomic import Atomic\n",
    "# from downloadFunctions.Decentraland import Decentraland\n",
    "from downloadFunctions.moralis import Moralis\n",
    "# from downloader import downloadData"
   ]
  },
  {
   "cell_type": "code",
   "execution_count": 5,
   "metadata": {},
   "outputs": [],
   "source": [
    "blockstart = 13296011 #13417210\n",
    "blocks_step = 2664\n",
    "target = 5\n",
    "\n",
    "# for i in range(target):\n",
    "    # print(\"Itteration:\" + str(i))\n",
    "    # blockStep = (i*blocks_step)+blockstart\n",
    "    # Moralis(blocks=blocks_step, block_start=blockStep,data_folder=\"./data/Moralis/newAdded/\")\n",
    "    # print(\"downloaded until:\" + str(blockStep-1+blocks_step))\n",
    "\n",
    "# for i in range(target):\n",
    "    # print(\"Itteration:\" + str(i))\n",
    "    # blockStep = (i*blocks_step)+blockstart\n",
    "Moralis(blocks=blocks_step, block_start=blockstart,data_folder=\"./data/Moralis/\")\n",
    "    # print(\"downloaded until:\" + str(blockStep-1+blocks_step))"
   ]
  }
 ],
 "metadata": {
  "interpreter": {
   "hash": "1da05cb5ddfbd67b008953245f39a8fb037fb3bd7635c153834414ad139ba332"
  },
  "kernelspec": {
   "display_name": "Python 3.8.12 ('nftProj')",
   "language": "python",
   "name": "python3"
  },
  "language_info": {
   "codemirror_mode": {
    "name": "ipython",
    "version": 3
   },
   "file_extension": ".py",
   "mimetype": "text/x-python",
   "name": "python",
   "nbconvert_exporter": "python",
   "pygments_lexer": "ipython3",
   "version": "3.8.12"
  },
  "orig_nbformat": 4
 },
 "nbformat": 4,
 "nbformat_minor": 2
}
