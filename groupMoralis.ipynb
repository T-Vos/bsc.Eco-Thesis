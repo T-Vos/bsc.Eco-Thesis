{
 "cells": [
  {
   "cell_type": "code",
   "execution_count": 4,
   "metadata": {},
   "outputs": [],
   "source": [
    "# load csv files and merge into 1 dataset\n",
    "import os\n",
    "import pandas as pd\n",
    "\n",
    "moralis = pd.DataFrame({}, dtype=str)\n",
    "filePath = \"./data/Moralis/singles/\"\n",
    "for filename in os.listdir(filePath):\n",
    "    if not filename.endswith('csv'): continue # don't read non .csv files\n",
    "    filePath_combined = filePath+filename\n",
    "    newCsv = pd.read_csv(filePath_combined)\n",
    "    moralis  = moralis.append(newCsv, ignore_index=True)"
   ]
  },
  {
   "cell_type": "code",
   "execution_count": 5,
   "metadata": {},
   "outputs": [
    {
     "data": {
      "text/html": [
       "<div>\n",
       "<style scoped>\n",
       "    .dataframe tbody tr th:only-of-type {\n",
       "        vertical-align: middle;\n",
       "    }\n",
       "\n",
       "    .dataframe tbody tr th {\n",
       "        vertical-align: top;\n",
       "    }\n",
       "\n",
       "    .dataframe thead th {\n",
       "        text-align: right;\n",
       "    }\n",
       "</style>\n",
       "<table border=\"1\" class=\"dataframe\">\n",
       "  <thead>\n",
       "    <tr style=\"text-align: right;\">\n",
       "      <th></th>\n",
       "      <th>block_number</th>\n",
       "      <th>block_timestamp</th>\n",
       "      <th>block_hash</th>\n",
       "      <th>transaction_hash</th>\n",
       "      <th>transaction_index</th>\n",
       "      <th>log_index</th>\n",
       "      <th>value</th>\n",
       "      <th>contract_type</th>\n",
       "      <th>transaction_type</th>\n",
       "      <th>token_address</th>\n",
       "      <th>token_id</th>\n",
       "      <th>from_address</th>\n",
       "      <th>to_address</th>\n",
       "      <th>amount</th>\n",
       "      <th>verified</th>\n",
       "      <th>operator</th>\n",
       "    </tr>\n",
       "  </thead>\n",
       "  <tbody>\n",
       "    <tr>\n",
       "      <th>0</th>\n",
       "      <td>12473995</td>\n",
       "      <td>2021-05-20T22:32:55.000Z</td>\n",
       "      <td>0x459ae8f284254b300f6753e258d77427349536020c89...</td>\n",
       "      <td>0x887b6e1040e553b489d54a11038263e7fd48384d64a7...</td>\n",
       "      <td>18</td>\n",
       "      <td>479</td>\n",
       "      <td>0</td>\n",
       "      <td>ERC1155</td>\n",
       "      <td>Single</td>\n",
       "      <td>0x2af75676692817d85121353f0d6e8e9ae6ad5576</td>\n",
       "      <td>5790491344359356358770474445448454575611913765...</td>\n",
       "      <td>0x0000000000000000000000000000000000000000</td>\n",
       "      <td>0x52c93ea4240d68b8f0d50ba9eac2bd75163f75c3</td>\n",
       "      <td>1</td>\n",
       "      <td>1</td>\n",
       "      <td>0x93c2bad041fa79b4026654667dcb61e9fee04250</td>\n",
       "    </tr>\n",
       "  </tbody>\n",
       "</table>\n",
       "</div>"
      ],
      "text/plain": [
       "   block_number           block_timestamp  \\\n",
       "0      12473995  2021-05-20T22:32:55.000Z   \n",
       "\n",
       "                                          block_hash  \\\n",
       "0  0x459ae8f284254b300f6753e258d77427349536020c89...   \n",
       "\n",
       "                                    transaction_hash  transaction_index  \\\n",
       "0  0x887b6e1040e553b489d54a11038263e7fd48384d64a7...                 18   \n",
       "\n",
       "   log_index value contract_type transaction_type  \\\n",
       "0        479     0       ERC1155           Single   \n",
       "\n",
       "                                token_address  \\\n",
       "0  0x2af75676692817d85121353f0d6e8e9ae6ad5576   \n",
       "\n",
       "                                            token_id  \\\n",
       "0  5790491344359356358770474445448454575611913765...   \n",
       "\n",
       "                                 from_address  \\\n",
       "0  0x0000000000000000000000000000000000000000   \n",
       "\n",
       "                                   to_address amount  verified  \\\n",
       "0  0x52c93ea4240d68b8f0d50ba9eac2bd75163f75c3      1         1   \n",
       "\n",
       "                                     operator  \n",
       "0  0x93c2bad041fa79b4026654667dcb61e9fee04250  "
      ]
     },
     "execution_count": 5,
     "metadata": {},
     "output_type": "execute_result"
    }
   ],
   "source": [
    "moralis.head(1)"
   ]
  },
  {
   "cell_type": "code",
   "execution_count": null,
   "metadata": {},
   "outputs": [],
   "source": [
    "lowBlock = moralis[\"block_number\"].min()\n",
    "highBlok = moralis[\"block_number\"].max()\n",
    "\n",
    "moralis.to_csv('./data/Moralis/moralis_blocks'+str(lowBlock)+'-'+str(highBlok)+'.csv', index=False)"
   ]
  }
 ],
 "metadata": {
  "interpreter": {
   "hash": "1da05cb5ddfbd67b008953245f39a8fb037fb3bd7635c153834414ad139ba332"
  },
  "kernelspec": {
   "display_name": "Python 3.8.12 ('nftProj')",
   "language": "python",
   "name": "python3"
  },
  "language_info": {
   "codemirror_mode": {
    "name": "ipython",
    "version": 3
   },
   "file_extension": ".py",
   "mimetype": "text/x-python",
   "name": "python",
   "nbconvert_exporter": "python",
   "pygments_lexer": "ipython3",
   "version": "3.8.12"
  },
  "orig_nbformat": 4
 },
 "nbformat": 4,
 "nbformat_minor": 2
}
