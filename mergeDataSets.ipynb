{
 "cells": [
  {
   "cell_type": "code",
   "execution_count": null,
   "metadata": {},
   "outputs": [],
   "source": [
    "import pandas as pd\n",
    "import sqlite3\n",
    "\n",
    "\n",
    "# Create a SQL connection to our SQLite database\n",
    "con = sqlite3.connect(\"./DataOtherSources/EthereumNFTs/nfts.sqlite\")\n",
    "\n",
    "cur = con.cursor()\n",
    "eventsMoonStream = pd.read_sql_query(\"SELECT * from transfers\", con)\n",
    "con.close()"
   ]
  }
 ],
 "metadata": {
  "language_info": {
   "name": "python"
  },
  "orig_nbformat": 4
 },
 "nbformat": 4,
 "nbformat_minor": 2
}
