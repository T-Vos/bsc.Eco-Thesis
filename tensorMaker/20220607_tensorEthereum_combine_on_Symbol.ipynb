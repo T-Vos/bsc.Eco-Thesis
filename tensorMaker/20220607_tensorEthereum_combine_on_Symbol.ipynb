{
 "cells": [
  {
   "cell_type": "code",
   "execution_count": 7,
   "metadata": {},
   "outputs": [],
   "source": [
    "import pandas as pd\n",
    "import sqlite3\n",
    "import numpy as np\n",
    "\n",
    "# Create a SQL connection to our SQLite database\n",
    "con = sqlite3.connect(\"../DataOtherSources/EthereumNFTs/nfts.sqlite\")\n",
    "\n",
    "cur = con.cursor()\n",
    "nftAddressNames = pd.read_sql_query('SELECT * from nfts', con)\n",
    "# Be sure to close the connection\n",
    "con.close()"
   ]
  },
  {
   "cell_type": "code",
   "execution_count": 8,
   "metadata": {},
   "outputs": [],
   "source": [
    "import pandas as pd\n",
    "merge = pd.read_csv(\"../data/merged/20220610merge-withoutMints.csv\")\n",
    "merge[\"SymbolNFTAddress\"] = merge[\"nft_address\"]"
   ]
  },
  {
   "cell_type": "code",
   "execution_count": 8,
   "metadata": {},
   "outputs": [],
   "source": [
    "nftAddressNames.loc[nftAddressNames[\"symbol\"] == '','symbol'] = nftAddressNames[\"name\"]"
   ]
  },
  {
   "cell_type": "code",
   "execution_count": 9,
   "metadata": {},
   "outputs": [],
   "source": [
    "incrementer = 0\n",
    "def incrementerFunc():\n",
    "    incrementer = incrementer =+1\n",
    "    return str(incrementer)+'VULNAAM'\n",
    "\n",
    "\n",
    "nftAddressNames.loc[nftAddressNames[\"symbol\"] == '','symbol'] = incrementerFunc()"
   ]
  },
  {
   "cell_type": "code",
   "execution_count": 10,
   "metadata": {},
   "outputs": [],
   "source": [
    "nftAdress_grouped = nftAddressNames.groupby([\"symbol\"])"
   ]
  },
  {
   "cell_type": "code",
   "execution_count": 11,
   "metadata": {},
   "outputs": [],
   "source": [
    "import numpy as np\n",
    "\n",
    "nft_dict = {}\n",
    "\n",
    "for (name, groupobject) in nftAdress_grouped.__iter__():\n",
    "    topNft_Address = np.array(groupobject[\"address\"])[0]\n",
    "    Nft_addresses = np.array(groupobject[\"address\"])\n",
    "    for NFT_address in Nft_addresses:\n",
    "        nft_dict[NFT_address] = topNft_Address"
   ]
  },
  {
   "cell_type": "code",
   "execution_count": 14,
   "metadata": {},
   "outputs": [],
   "source": [
    "nftAddressNames[\"NFTEQUAL\"] = nftAddressNames[\"address\"].replace(nft_dict)"
   ]
  },
  {
   "cell_type": "code",
   "execution_count": 24,
   "metadata": {},
   "outputs": [],
   "source": [
    "nftAddressNames[\"symbol\"] = nftAddressNames[\"symbol\"].apply( lambda x : \"\" if str(x).endswith('VULNAAM') else x )"
   ]
  },
  {
   "cell_type": "code",
   "execution_count": 28,
   "metadata": {},
   "outputs": [],
   "source": [
    "nftAddressNames[\"address\"] = nftAddressNames[\"address\"].str.lower()\n",
    "nftAddressNames[\"NFTEQUAL\"] = nftAddressNames[\"NFTEQUAL\"].str.lower()"
   ]
  },
  {
   "cell_type": "code",
   "execution_count": 22,
   "metadata": {},
   "outputs": [],
   "source": [
    "nftAddressNames.to_csv(\"nftNames-baseline.csv\",index=False)"
   ]
  },
  {
   "cell_type": "code",
   "execution_count": 7,
   "metadata": {},
   "outputs": [
    {
     "name": "stderr",
     "output_type": "stream",
     "text": [
      "<ipython-input-7-81a7a0683f55>:7: SettingWithCopyWarning: \n",
      "A value is trying to be set on a copy of a slice from a DataFrame.\n",
      "Try using .loc[row_indexer,col_indexer] = value instead\n",
      "\n",
      "See the caveats in the documentation: https://pandas.pydata.org/pandas-docs/stable/user_guide/indexing.html#returning-a-view-versus-a-copy\n",
      "  merge.loc[begin:end][\"SymbolNFTAddress\"] = merge.loc[begin:end][\"SymbolNFTAddress\"].replace(nft_dict)\n"
     ]
    },
    {
     "name": "stdout",
     "output_type": "stream",
     "text": [
      "Finished until 99999\n",
      "Finished until 199999\n",
      "Finished until 299999\n",
      "Finished until 399999\n",
      "Finished until 499999\n",
      "Finished until 599999\n",
      "Finished until 699999\n",
      "Finished until 799999\n",
      "Finished until 899999\n",
      "Finished until 999999\n",
      "Finished until 1099999\n",
      "Finished until 1199999\n",
      "Finished until 1299999\n",
      "Finished until 1399999\n",
      "Finished until 1499999\n",
      "Finished until 1599999\n",
      "Finished until 1699999\n",
      "Finished until 1799999\n",
      "Finished until 1899999\n",
      "Finished until 1999999\n",
      "Finished until 2099999\n",
      "Finished until 2199999\n",
      "Finished until 2299999\n",
      "Finished until 2399999\n",
      "Finished until 2499999\n",
      "Finished until 2599999\n",
      "Finished until 2699999\n",
      "Finished until 2799999\n",
      "Finished until 2899999\n",
      "Finished until 2999999\n",
      "Finished until 3099999\n",
      "Finished until 3199999\n",
      "Finished until 3299999\n",
      "Finished until 3399999\n",
      "Finished until 3499999\n",
      "Finished until 3599999\n",
      "Finished until 3699999\n",
      "Finished until 3799999\n",
      "Finished until 3899999\n",
      "Finished until 3999999\n",
      "Finished until 4099999\n",
      "Finished until 4199999\n",
      "Finished until 4299999\n",
      "Finished until 4399999\n",
      "Finished until 4499999\n",
      "Finished until 4599999\n",
      "Finished until 4699999\n",
      "Finished until 4799999\n",
      "Finished until 4899999\n",
      "Finished until 4999999\n",
      "Finished until 5099999\n",
      "Finished until 5199999\n",
      "Finished until 5299999\n",
      "Finished until 5399999\n",
      "Finished until 5499999\n",
      "Finished until 5599999\n",
      "Finished until 5699999\n",
      "Finished until 5799999\n",
      "Finished until 5899999\n",
      "Finished until 5999999\n"
     ]
    }
   ],
   "source": [
    "begin = 0\n",
    "end = 1\n",
    "step = 100000\n",
    "for rangeInt in range(0,merge.shape[0], step):\n",
    "    begin = rangeInt\n",
    "    end = rangeInt + step - 1\n",
    "    merge.loc[begin:end][\"SymbolNFTAddress\"] = merge.loc[begin:end][\"SymbolNFTAddress\"].replace(nft_dict)\n",
    "    print('Finished until',end)"
   ]
  },
  {
   "cell_type": "code",
   "execution_count": 9,
   "metadata": {},
   "outputs": [],
   "source": [
    "import datetime\n",
    "x = datetime.datetime.now()\n",
    "merge.to_csv('../data/merged/'+str(x.strftime(\"%Y%m%d\"))+'merge_withbaselineSymbol-withoutMints.csv', index=False)"
   ]
  }
 ],
 "metadata": {
  "interpreter": {
   "hash": "1da05cb5ddfbd67b008953245f39a8fb037fb3bd7635c153834414ad139ba332"
  },
  "kernelspec": {
   "display_name": "Python 3.8.12 ('nftProj')",
   "language": "python",
   "name": "python3"
  },
  "language_info": {
   "codemirror_mode": {
    "name": "ipython",
    "version": 3
   },
   "file_extension": ".py",
   "mimetype": "text/x-python",
   "name": "python",
   "nbconvert_exporter": "python",
   "pygments_lexer": "ipython3",
   "version": "3.8.12"
  },
  "orig_nbformat": 4
 },
 "nbformat": 4,
 "nbformat_minor": 2
}
