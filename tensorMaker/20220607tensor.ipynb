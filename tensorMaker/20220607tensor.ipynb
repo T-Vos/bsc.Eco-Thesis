{
 "cells": [
  {
   "cell_type": "code",
   "execution_count": 1,
   "metadata": {},
   "outputs": [
    {
     "name": "stderr",
     "output_type": "stream",
     "text": [
      "c:\\Users\\Thoma\\.conda\\envs\\nftProj\\lib\\site-packages\\IPython\\core\\interactiveshell.py:3145: DtypeWarning: Columns (13) have mixed types.Specify dtype option on import or set low_memory=False.\n",
      "  has_raised = await self.run_ast_nodes(code_ast.body, cell_name,\n",
      "c:\\Users\\Thoma\\.conda\\envs\\nftProj\\lib\\site-packages\\IPython\\core\\interactiveshell.py:3145: DtypeWarning: Columns (6,13) have mixed types.Specify dtype option on import or set low_memory=False.\n",
      "  has_raised = await self.run_ast_nodes(code_ast.body, cell_name,\n",
      "c:\\Users\\Thoma\\.conda\\envs\\nftProj\\lib\\site-packages\\IPython\\core\\interactiveshell.py:3145: DtypeWarning: Columns (6) have mixed types.Specify dtype option on import or set low_memory=False.\n",
      "  has_raised = await self.run_ast_nodes(code_ast.body, cell_name,\n"
     ]
    }
   ],
   "source": [
    "# load csv files and merge into 1 dataset\n",
    "import os\n",
    "import pandas as pd\n",
    "\n",
    "moralis = pd.DataFrame({}, dtype=str)\n",
    "filePath = \"../data/Moralis/\"\n",
    "for filename in os.listdir(filePath):\n",
    "    if not filename.endswith('csv'): continue # don't read non .csv files\n",
    "    filePath_combined = filePath+filename\n",
    "    newCsv = pd.read_csv(filePath_combined)\n",
    "    moralis  = moralis.append(newCsv, ignore_index=True)\n"
   ]
  },
  {
   "cell_type": "code",
   "execution_count": 2,
   "metadata": {},
   "outputs": [],
   "source": [
    "def shortenInt(value):\n",
    "    value = str(value)\n",
    "    if len(value) > 7 : value = value[:-7]\n",
    "    if value.isdigit(): return int(value)\n",
    "    if value == \"0.0\" : return int(0)\n",
    "    return print(\"ERROR: \", value)"
   ]
  },
  {
   "cell_type": "code",
   "execution_count": 3,
   "metadata": {},
   "outputs": [],
   "source": [
    "moralis[\"value_cutDown\"] = moralis[\"value\"].map(lambda x : shortenInt(x))\n",
    "moralis['value_cutDown'] = pd.to_numeric(moralis['value_cutDown'])\n",
    "moralis['transactionEther'] = moralis[\"value_cutDown\"] / 100000000000\n",
    "\n",
    "moralis = moralis.drop([\"value_cutDown\"],axis=1)\n",
    "moralis['transactionEther'] = pd.to_numeric(moralis['transactionEther'])"
   ]
  },
  {
   "cell_type": "code",
   "execution_count": 4,
   "metadata": {},
   "outputs": [],
   "source": [
    "import pandas as pd\n",
    "import sqlite3\n",
    "\n",
    "# Create a SQL connection to our SQLite database\n",
    "con = sqlite3.connect(\"../DataOtherSources/EthereumNFTs/nfts.sqlite\")\n",
    "\n",
    "cur = con.cursor()\n",
    "ethereum = pd.read_sql_query(\"SELECT * from transfers\", con)\n",
    "# print(df.head(10))\n",
    "# Be sure to close the connection\n",
    "con.close()"
   ]
  },
  {
   "cell_type": "code",
   "execution_count": 5,
   "metadata": {},
   "outputs": [],
   "source": [
    "ethereum['transactionEther'] = ethereum[\"transaction_value\"] / pow(10, 18)"
   ]
  },
  {
   "cell_type": "code",
   "execution_count": 6,
   "metadata": {},
   "outputs": [],
   "source": [
    "import numpy as np\n",
    "import functools\n",
    "\n",
    "moralis = moralis[ moralis[\"contract_type\"] == \"ERC721\"]\n",
    "\n",
    "def disjunction(*conditions):\n",
    "    return functools.reduce(np.logical_or, conditions)\n",
    "\n",
    "block_max = ethereum[\"block_number\"].max()\n",
    "block_min = ethereum[\"block_number\"].min()\n",
    "\n",
    "c_1 = moralis[\"block_number\"] > block_max\n",
    "c_2 = moralis[\"block_number\"] < block_min\n",
    "\n",
    "moralis = moralis[disjunction(c_1,c_2)]\n",
    "\n",
    "moralis = moralis.drop([  \"block_hash\",\n",
    "                \"block_number\",\n",
    "                \"operator\",\n",
    "                \"verified\",\n",
    "                \"transaction_type\",\n",
    "                \"transaction_index\",\n",
    "                \"log_index\",\n",
    "                \"contract_type\",\n",
    "                \"from_address\",\n",
    "                \"to_address\",\n",
    "                \"amount\",\n",
    "                \"value\"\n",
    "                ], axis=1)\n"
   ]
  },
  {
   "cell_type": "code",
   "execution_count": 7,
   "metadata": {},
   "outputs": [],
   "source": [
    "ethereum = ethereum.drop([ \n",
    "                \"block_number\",\n",
    "                \"event_id\", \n",
    "                \"from_address\",\n",
    "                \"to_address\",\n",
    "                \"transaction_value\"\n",
    "                ], axis=1)"
   ]
  },
  {
   "cell_type": "code",
   "execution_count": 8,
   "metadata": {},
   "outputs": [
    {
     "data": {
      "text/html": [
       "<div>\n",
       "<style scoped>\n",
       "    .dataframe tbody tr th:only-of-type {\n",
       "        vertical-align: middle;\n",
       "    }\n",
       "\n",
       "    .dataframe tbody tr th {\n",
       "        vertical-align: top;\n",
       "    }\n",
       "\n",
       "    .dataframe thead th {\n",
       "        text-align: right;\n",
       "    }\n",
       "</style>\n",
       "<table border=\"1\" class=\"dataframe\">\n",
       "  <thead>\n",
       "    <tr style=\"text-align: right;\">\n",
       "      <th></th>\n",
       "      <th>block_timestamp</th>\n",
       "      <th>transaction_hash</th>\n",
       "      <th>token_address</th>\n",
       "      <th>token_id</th>\n",
       "      <th>transactionEther</th>\n",
       "    </tr>\n",
       "  </thead>\n",
       "  <tbody>\n",
       "    <tr>\n",
       "      <th>20732</th>\n",
       "      <td>2021-09-25T16:16:40.000Z</td>\n",
       "      <td>0xb32f5bb0ae464b781a3e4226589878d3be195b9db619...</td>\n",
       "      <td>0x2ea241b51451b713dd05566d10a6ba3379b26788</td>\n",
       "      <td>2959</td>\n",
       "      <td>0.0</td>\n",
       "    </tr>\n",
       "  </tbody>\n",
       "</table>\n",
       "</div>"
      ],
      "text/plain": [
       "                block_timestamp  \\\n",
       "20732  2021-09-25T16:16:40.000Z   \n",
       "\n",
       "                                        transaction_hash  \\\n",
       "20732  0xb32f5bb0ae464b781a3e4226589878d3be195b9db619...   \n",
       "\n",
       "                                    token_address token_id  transactionEther  \n",
       "20732  0x2ea241b51451b713dd05566d10a6ba3379b26788     2959               0.0  "
      ]
     },
     "execution_count": 8,
     "metadata": {},
     "output_type": "execute_result"
    }
   ],
   "source": [
    "moralis.head(1)"
   ]
  },
  {
   "cell_type": "code",
   "execution_count": 9,
   "metadata": {},
   "outputs": [],
   "source": [
    "moralis.columns = ['timestamp','transaction_hash','nft_address',\"token_id\",\"transactionEther\"]"
   ]
  },
  {
   "cell_type": "code",
   "execution_count": null,
   "metadata": {},
   "outputs": [],
   "source": [
    "ethereum.head(1)"
   ]
  },
  {
   "cell_type": "code",
   "execution_count": 10,
   "metadata": {},
   "outputs": [
    {
     "data": {
      "text/plain": [
       "True"
      ]
     },
     "execution_count": 10,
     "metadata": {},
     "output_type": "execute_result"
    }
   ],
   "source": [
    "# Sanity check\n",
    "len(moralis.columns) == len(ethereum.columns) # expect true"
   ]
  },
  {
   "cell_type": "code",
   "execution_count": null,
   "metadata": {},
   "outputs": [],
   "source": [
    "moralis['timestamp'] = pd.to_datetime(moralis['timestamp'])\n",
    "# moralis['timestamp_day'] = moralis['timestamp'].dt.floor('d')"
   ]
  },
  {
   "cell_type": "code",
   "execution_count": null,
   "metadata": {},
   "outputs": [],
   "source": [
    "ethereum['timestamp'] = pd.to_datetime(ethereum['timestamp'],unit='s')\n",
    "# ethereum['timestamp_day'] = ethereum['timestamp'].dt.floor('d')"
   ]
  },
  {
   "cell_type": "code",
   "execution_count": null,
   "metadata": {},
   "outputs": [],
   "source": [
    "merge = pd.concat([ethereum,moralis]).reset_index(drop=True)"
   ]
  },
  {
   "cell_type": "code",
   "execution_count": null,
   "metadata": {},
   "outputs": [],
   "source": [
    "import datetime\n",
    "x = datetime.datetime.now()\n",
    "merge.to_csv('../data/merged/'+str(x.strftime(\"%Y%m%d\"))+'merge.csv', index=False)"
   ]
  }
 ],
 "metadata": {
  "interpreter": {
   "hash": "1da05cb5ddfbd67b008953245f39a8fb037fb3bd7635c153834414ad139ba332"
  },
  "kernelspec": {
   "display_name": "Python 3.8.12 ('nftProj')",
   "language": "python",
   "name": "python3"
  },
  "language_info": {
   "codemirror_mode": {
    "name": "ipython",
    "version": 3
   },
   "file_extension": ".py",
   "mimetype": "text/x-python",
   "name": "python",
   "nbconvert_exporter": "python",
   "pygments_lexer": "ipython3",
   "version": "3.8.12"
  },
  "orig_nbformat": 4
 },
 "nbformat": 4,
 "nbformat_minor": 2
}
