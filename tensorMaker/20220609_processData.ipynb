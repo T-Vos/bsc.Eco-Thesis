{
 "cells": [
  {
   "cell_type": "code",
   "execution_count": 7,
   "metadata": {},
   "outputs": [],
   "source": [
    "import pandas as pd\n",
    "import datetime\n",
    "x = datetime.datetime.now()\n",
    "# merge = pd.read_csv('../data/merged/'+str(x.strftime(\"%Y%m%d\"))+'merge_withbaselineSymbol-withoutMints.csv')\n",
    "# merge = pd.read_csv('../data/merged/20220610merge_withbaselineSymbol-withoutMints.csv')\n",
    "merge = pd.read_csv('../clustering/mergewithBaseline.csv')"
   ]
  },
  {
   "cell_type": "code",
   "execution_count": 5,
   "metadata": {},
   "outputs": [],
   "source": [
    "def selectTopRows(merge,valueCounts,topRows=50):\n",
    "    mostUsedNFT = valueCounts[0:topRows].keys()\n",
    "    return merge[merge[\"SymbolNFTAddress\"].isin(mostUsedNFT)]"
   ]
  },
  {
   "cell_type": "code",
   "execution_count": 17,
   "metadata": {},
   "outputs": [],
   "source": [
    "import numpy as np\n",
    "import pandas as pd\n",
    "\n",
    "def currencyTranslation(value, date, priceTable):\n",
    "    return priceTable[priceTable[\"timestamp\"] == date].iloc[0,1:4].mean() * value\n",
    "\n",
    "def convertNFTTradesGroupedData(groupedData):\n",
    "    print(\"Start converting data\")\n",
    "    priceTable = pd.read_csv('../data/Dollar/ETH-USD.csv')\n",
    "    priceTable['timestamp'] = pd.to_datetime(priceTable['Date'], utc=True)\n",
    "\n",
    "    grouped = []\n",
    "    row=0\n",
    "\n",
    "    for (TransactionName, groupobject) in groupedData.__iter__():\n",
    "        row += 1\n",
    "        if row % 100000 == 0 : print(row)\n",
    "        if row % 1000000 == 0 : \n",
    "            print(\"save\")\n",
    "            grouped_save = pd.DataFrame(grouped)\n",
    "            grouped_save.to_csv('20220615_total.csv', index=False)\n",
    "            print(\"save complete\")\n",
    "\n",
    "        groupedNFTS = groupobject.groupby([\"baseLine\"])\n",
    "        \n",
    "        totalLength = len(groupobject)\n",
    "        etherPrice = np.array(groupobject[\"transactionEther\"])[0]\n",
    "        timeStampDay= np.array(groupobject[\"timestamp_day\"])[0]\n",
    "        timeStamp = np.array(groupobject[\"timestamp\"])[0]\n",
    "        # timeStampHour = np.array(groupobject[\"timestamp_hour\"])[0]\n",
    "        \n",
    "        for (NFTname, groupobNFTs) in groupedNFTS.__iter__():\n",
    "\n",
    "            adjDollarPrice = (currencyTranslation(etherPrice, timeStampDay, priceTable))/totalLength\n",
    "            logadjDollarPrice = 0\n",
    "            if adjDollarPrice != 0 :\n",
    "                logadjDollarPrice = np.log10(adjDollarPrice)\n",
    "            \n",
    "            grouped.append({\n",
    "                \"timeStamp\":timeStamp,\n",
    "                \"transactionEther\":etherPrice,\n",
    "                \"transactionEther_average\":etherPrice/totalLength,\n",
    "                \"priceInDollar\": adjDollarPrice,\n",
    "                \"priceInDollarLog\": logadjDollarPrice,\n",
    "                \"quant\": len(groupobNFTs),\n",
    "                \"nft_address\": NFTname,\n",
    "                \"transaction\":TransactionName\n",
    "            })\n",
    "        \n",
    "    return pd.DataFrame(grouped)"
   ]
  },
  {
   "cell_type": "code",
   "execution_count": 18,
   "metadata": {},
   "outputs": [],
   "source": [
    "total = merge.groupby([\"transaction_hash\"])"
   ]
  },
  {
   "cell_type": "code",
   "execution_count": 19,
   "metadata": {},
   "outputs": [
    {
     "name": "stdout",
     "output_type": "stream",
     "text": [
      "Start converting data\n",
      "100000\n",
      "200000\n",
      "300000\n",
      "400000\n",
      "500000\n",
      "600000\n",
      "700000\n",
      "800000\n",
      "900000\n",
      "1000000\n",
      "save\n",
      "save complete\n",
      "1100000\n",
      "1200000\n",
      "1300000\n",
      "1400000\n",
      "1500000\n",
      "1600000\n",
      "1700000\n",
      "1800000\n",
      "1900000\n",
      "2000000\n",
      "save\n",
      "save complete\n",
      "2100000\n",
      "2200000\n",
      "2300000\n",
      "2400000\n",
      "2500000\n",
      "2600000\n",
      "2700000\n",
      "2800000\n",
      "2900000\n",
      "3000000\n",
      "save\n",
      "save complete\n",
      "3100000\n",
      "3200000\n",
      "3300000\n",
      "3400000\n",
      "3500000\n",
      "3600000\n",
      "3700000\n",
      "3800000\n",
      "3900000\n",
      "4000000\n",
      "save\n",
      "save complete\n",
      "4100000\n",
      "4200000\n",
      "4300000\n",
      "4400000\n",
      "4500000\n",
      "4600000\n",
      "4700000\n",
      "4800000\n",
      "4900000\n",
      "5000000\n",
      "save\n",
      "save complete\n",
      "5100000\n"
     ]
    }
   ],
   "source": [
    "# EXPECT 100 minutes\n",
    "grouped = convertNFTTradesGroupedData(total)"
   ]
  },
  {
   "cell_type": "code",
   "execution_count": 20,
   "metadata": {},
   "outputs": [],
   "source": [
    "grouped.to_csv('20220615_total.csv', index=False)"
   ]
  },
  {
   "cell_type": "code",
   "execution_count": 21,
   "metadata": {},
   "outputs": [],
   "source": [
    "grouped.to_csv('../clustering/20220615_total.csv', index=False)"
   ]
  },
  {
   "cell_type": "code",
   "execution_count": 11,
   "metadata": {},
   "outputs": [],
   "source": [
    "# pivot_mean = pd.pivot_table(grouped, values=\"priceInDollar\", index=\"timeStamp-hour\", columns=\"nft_address\", aggfunc=np.mean)\n",
    "# pivot_difference = pd.pivot_table(grouped, values=\"priceInDollar\", index=\"timeStamp-hour\", columns=\"nft_address\", aggfunc=np.mean).rolling(window=2).apply(lambda x: x.iloc[1] - x.iloc[0])\n",
    "# pivot_difference_log = pd.pivot_table(grouped, values=\"priceInDollarLog\", index=\"timeStamp-hour\", columns=\"nft_address\", aggfunc=np.mean).rolling(window=2).apply(lambda x: x.iloc[1] - x.iloc[0])\n",
    "# pivot_mean_log = pd.pivot_table(grouped, values=\"priceInDollarLog\", index=\"timeStamp-hour\", columns=\"nft_address\", aggfunc=np.mean)\n",
    "# pivot_max_log = pd.pivot_table(grouped, values=\"priceInDollarLog\", index=\"timeStamp-hour\", columns=\"nft_address\", aggfunc=np.max)\n",
    "# pivot_min_log = pd.pivot_table(grouped, values=\"priceInDollarLog\", index=\"timeStamp-hour\", columns=\"nft_address\", aggfunc=np.min)\n",
    "# pivot_std_log = pd.pivot_table(grouped, values=\"priceInDollarLog\", index=\"timeStamp-hour\", columns=\"nft_address\", aggfunc=np.std)"
   ]
  }
 ],
 "metadata": {
  "kernelspec": {
   "display_name": "Python 3.8.12 ('thesisProject')",
   "language": "python",
   "name": "python3"
  },
  "language_info": {
   "codemirror_mode": {
    "name": "ipython",
    "version": 3
   },
   "file_extension": ".py",
   "mimetype": "text/x-python",
   "name": "python",
   "nbconvert_exporter": "python",
   "pygments_lexer": "ipython3",
   "version": "3.8.12"
  },
  "orig_nbformat": 4,
  "vscode": {
   "interpreter": {
    "hash": "6744874b6b7d4c11632f5c57904f17b16032f5dfc2e35ec68085b9c698263a2f"
   }
  }
 },
 "nbformat": 4,
 "nbformat_minor": 2
}
