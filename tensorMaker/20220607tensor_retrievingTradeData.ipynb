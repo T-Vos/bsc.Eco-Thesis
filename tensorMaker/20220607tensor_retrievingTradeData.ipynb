{
 "cells": [
  {
   "cell_type": "code",
   "execution_count": 27,
   "metadata": {},
   "outputs": [
    {
     "name": "stderr",
     "output_type": "stream",
     "text": [
      "c:\\Users\\Thoma\\.conda\\envs\\nftProj\\lib\\site-packages\\IPython\\core\\interactiveshell.py:3145: DtypeWarning: Columns (13) have mixed types.Specify dtype option on import or set low_memory=False.\n",
      "  has_raised = await self.run_ast_nodes(code_ast.body, cell_name,\n",
      "c:\\Users\\Thoma\\.conda\\envs\\nftProj\\lib\\site-packages\\IPython\\core\\interactiveshell.py:3145: DtypeWarning: Columns (6,13) have mixed types.Specify dtype option on import or set low_memory=False.\n",
      "  has_raised = await self.run_ast_nodes(code_ast.body, cell_name,\n",
      "c:\\Users\\Thoma\\.conda\\envs\\nftProj\\lib\\site-packages\\IPython\\core\\interactiveshell.py:3145: DtypeWarning: Columns (6) have mixed types.Specify dtype option on import or set low_memory=False.\n",
      "  has_raised = await self.run_ast_nodes(code_ast.body, cell_name,\n"
     ]
    }
   ],
   "source": [
    "# load csv files and merge into 1 dataset\n",
    "import os\n",
    "import pandas as pd\n",
    "\n",
    "moralis = pd.DataFrame({}, dtype=str)\n",
    "filePath = \"../data/Moralis/\"\n",
    "for filename in os.listdir(filePath):\n",
    "    if not filename.endswith('csv'): continue # don't read non .csv files\n",
    "    filePath_combined = filePath+filename\n",
    "    newCsv = pd.read_csv(filePath_combined)\n",
    "    moralis  = moralis.append(newCsv, ignore_index=True)\n"
   ]
  },
  {
   "cell_type": "code",
   "execution_count": 28,
   "metadata": {},
   "outputs": [
    {
     "data": {
      "text/html": [
       "<div>\n",
       "<style scoped>\n",
       "    .dataframe tbody tr th:only-of-type {\n",
       "        vertical-align: middle;\n",
       "    }\n",
       "\n",
       "    .dataframe tbody tr th {\n",
       "        vertical-align: top;\n",
       "    }\n",
       "\n",
       "    .dataframe thead th {\n",
       "        text-align: right;\n",
       "    }\n",
       "</style>\n",
       "<table border=\"1\" class=\"dataframe\">\n",
       "  <thead>\n",
       "    <tr style=\"text-align: right;\">\n",
       "      <th></th>\n",
       "      <th>block_number</th>\n",
       "      <th>block_timestamp</th>\n",
       "      <th>block_hash</th>\n",
       "      <th>transaction_hash</th>\n",
       "      <th>transaction_index</th>\n",
       "      <th>log_index</th>\n",
       "      <th>value</th>\n",
       "      <th>contract_type</th>\n",
       "      <th>transaction_type</th>\n",
       "      <th>token_address</th>\n",
       "      <th>token_id</th>\n",
       "      <th>from_address</th>\n",
       "      <th>to_address</th>\n",
       "      <th>amount</th>\n",
       "      <th>verified</th>\n",
       "      <th>operator</th>\n",
       "    </tr>\n",
       "  </thead>\n",
       "  <tbody>\n",
       "    <tr>\n",
       "      <th>0</th>\n",
       "      <td>13296011</td>\n",
       "      <td>2021-09-25T16:15:40.000Z</td>\n",
       "      <td>0x60ec2961f9b979e67e6600db3b32fd2609150926fd81...</td>\n",
       "      <td>0x51636307c3976abb028df5238077c7ca59db4215fd2e...</td>\n",
       "      <td>96</td>\n",
       "      <td>124</td>\n",
       "      <td>30000000000000000</td>\n",
       "      <td>ERC721</td>\n",
       "      <td>Single</td>\n",
       "      <td>0xd3b1ac6d874b8d96f666f25dddddd8d52c5a5c83</td>\n",
       "      <td>1186</td>\n",
       "      <td>0x0000000000000000000000000000000000000000</td>\n",
       "      <td>0x7e3d993a8d63c25d1db5f7ff8a8d6c59091003b1</td>\n",
       "      <td>1</td>\n",
       "      <td>1</td>\n",
       "      <td>NaN</td>\n",
       "    </tr>\n",
       "  </tbody>\n",
       "</table>\n",
       "</div>"
      ],
      "text/plain": [
       "   block_number           block_timestamp  \\\n",
       "0      13296011  2021-09-25T16:15:40.000Z   \n",
       "\n",
       "                                          block_hash  \\\n",
       "0  0x60ec2961f9b979e67e6600db3b32fd2609150926fd81...   \n",
       "\n",
       "                                    transaction_hash  transaction_index  \\\n",
       "0  0x51636307c3976abb028df5238077c7ca59db4215fd2e...                 96   \n",
       "\n",
       "   log_index              value contract_type transaction_type  \\\n",
       "0        124  30000000000000000        ERC721           Single   \n",
       "\n",
       "                                token_address token_id  \\\n",
       "0  0xd3b1ac6d874b8d96f666f25dddddd8d52c5a5c83     1186   \n",
       "\n",
       "                                 from_address  \\\n",
       "0  0x0000000000000000000000000000000000000000   \n",
       "\n",
       "                                   to_address amount  verified operator  \n",
       "0  0x7e3d993a8d63c25d1db5f7ff8a8d6c59091003b1      1         1      NaN  "
      ]
     },
     "execution_count": 28,
     "metadata": {},
     "output_type": "execute_result"
    }
   ],
   "source": [
    "moralis.head(1)"
   ]
  },
  {
   "cell_type": "code",
   "execution_count": 22,
   "metadata": {},
   "outputs": [],
   "source": [
    "# moralis[\"token_address\"] = moralis[\"token_address\"].str.lower"
   ]
  },
  {
   "cell_type": "code",
   "execution_count": 4,
   "metadata": {},
   "outputs": [],
   "source": [
    "import pandas as pd\n",
    "import sqlite3\n",
    "\n",
    "# Create a SQL connection to our SQLite database\n",
    "con = sqlite3.connect(\"../DataOtherSources/EthereumNFTs/nfts.sqlite\")\n",
    "\n",
    "cur = con.cursor()\n",
    "ethereum = pd.read_sql_query(\"SELECT * from transfers\", con)\n",
    "# print(df.head(10))\n",
    "# Be sure to close the connection\n",
    "con.close()"
   ]
  },
  {
   "cell_type": "code",
   "execution_count": 5,
   "metadata": {},
   "outputs": [],
   "source": [
    "ethereum[\"nft_address\"] = ethereum[\"nft_address\"].str.lower()"
   ]
  },
  {
   "cell_type": "code",
   "execution_count": 12,
   "metadata": {},
   "outputs": [
    {
     "data": {
      "text/html": [
       "<div>\n",
       "<style scoped>\n",
       "    .dataframe tbody tr th:only-of-type {\n",
       "        vertical-align: middle;\n",
       "    }\n",
       "\n",
       "    .dataframe tbody tr th {\n",
       "        vertical-align: top;\n",
       "    }\n",
       "\n",
       "    .dataframe thead th {\n",
       "        text-align: right;\n",
       "    }\n",
       "</style>\n",
       "<table border=\"1\" class=\"dataframe\">\n",
       "  <thead>\n",
       "    <tr style=\"text-align: right;\">\n",
       "      <th></th>\n",
       "      <th>transaction_hash</th>\n",
       "      <th>block_number</th>\n",
       "      <th>nft_address</th>\n",
       "      <th>token_id</th>\n",
       "      <th>from_address</th>\n",
       "      <th>to_address</th>\n",
       "      <th>timestamp</th>\n",
       "    </tr>\n",
       "  </thead>\n",
       "  <tbody>\n",
       "    <tr>\n",
       "      <th>0</th>\n",
       "      <td>0x0c73daad5e6946e6b2f1374846d6ba3025d6e6a2569f...</td>\n",
       "      <td>12936373</td>\n",
       "      <td>0x629a673a8242c2ac4b7b8c5d8735fbeac21a6205</td>\n",
       "      <td>6682934142305278177002530107138320246486863356...</td>\n",
       "      <td>0x25f1d709b329C7349b8209851E90eFa3a7f60178</td>\n",
       "      <td>0xC69b4c6fFDBaF843A0d0588c99E3C67f27069BEa</td>\n",
       "      <td>1627776481</td>\n",
       "    </tr>\n",
       "  </tbody>\n",
       "</table>\n",
       "</div>"
      ],
      "text/plain": [
       "                                    transaction_hash  block_number  \\\n",
       "0  0x0c73daad5e6946e6b2f1374846d6ba3025d6e6a2569f...      12936373   \n",
       "\n",
       "                                  nft_address  \\\n",
       "0  0x629a673a8242c2ac4b7b8c5d8735fbeac21a6205   \n",
       "\n",
       "                                            token_id  \\\n",
       "0  6682934142305278177002530107138320246486863356...   \n",
       "\n",
       "                                 from_address  \\\n",
       "0  0x25f1d709b329C7349b8209851E90eFa3a7f60178   \n",
       "\n",
       "                                   to_address   timestamp  \n",
       "0  0xC69b4c6fFDBaF843A0d0588c99E3C67f27069BEa  1627776481  "
      ]
     },
     "execution_count": 12,
     "metadata": {},
     "output_type": "execute_result"
    }
   ],
   "source": [
    "ethereum.head(1)"
   ]
  },
  {
   "cell_type": "code",
   "execution_count": 10,
   "metadata": {},
   "outputs": [],
   "source": [
    "ethereum = ethereum.drop([ \n",
    "                \"event_id\",\n",
    "                \"transaction_value\"\n",
    "                ], axis=1)"
   ]
  },
  {
   "cell_type": "code",
   "execution_count": 30,
   "metadata": {},
   "outputs": [
    {
     "data": {
      "text/html": [
       "<div>\n",
       "<style scoped>\n",
       "    .dataframe tbody tr th:only-of-type {\n",
       "        vertical-align: middle;\n",
       "    }\n",
       "\n",
       "    .dataframe tbody tr th {\n",
       "        vertical-align: top;\n",
       "    }\n",
       "\n",
       "    .dataframe thead th {\n",
       "        text-align: right;\n",
       "    }\n",
       "</style>\n",
       "<table border=\"1\" class=\"dataframe\">\n",
       "  <thead>\n",
       "    <tr style=\"text-align: right;\">\n",
       "      <th></th>\n",
       "      <th>block_number</th>\n",
       "      <th>block_timestamp</th>\n",
       "      <th>transaction_hash</th>\n",
       "      <th>token_address</th>\n",
       "      <th>token_id</th>\n",
       "      <th>from_address</th>\n",
       "      <th>to_address</th>\n",
       "    </tr>\n",
       "  </thead>\n",
       "  <tbody>\n",
       "    <tr>\n",
       "      <th>0</th>\n",
       "      <td>13296011</td>\n",
       "      <td>2021-09-25T16:15:40.000Z</td>\n",
       "      <td>0x51636307c3976abb028df5238077c7ca59db4215fd2e...</td>\n",
       "      <td>0xd3b1ac6d874b8d96f666f25dddddd8d52c5a5c83</td>\n",
       "      <td>1186</td>\n",
       "      <td>0x0000000000000000000000000000000000000000</td>\n",
       "      <td>0x7e3d993a8d63c25d1db5f7ff8a8d6c59091003b1</td>\n",
       "    </tr>\n",
       "  </tbody>\n",
       "</table>\n",
       "</div>"
      ],
      "text/plain": [
       "   block_number           block_timestamp  \\\n",
       "0      13296011  2021-09-25T16:15:40.000Z   \n",
       "\n",
       "                                    transaction_hash  \\\n",
       "0  0x51636307c3976abb028df5238077c7ca59db4215fd2e...   \n",
       "\n",
       "                                token_address token_id  \\\n",
       "0  0xd3b1ac6d874b8d96f666f25dddddd8d52c5a5c83     1186   \n",
       "\n",
       "                                 from_address  \\\n",
       "0  0x0000000000000000000000000000000000000000   \n",
       "\n",
       "                                   to_address  \n",
       "0  0x7e3d993a8d63c25d1db5f7ff8a8d6c59091003b1  "
      ]
     },
     "execution_count": 30,
     "metadata": {},
     "output_type": "execute_result"
    }
   ],
   "source": [
    "moralis.head(1)"
   ]
  },
  {
   "cell_type": "code",
   "execution_count": 29,
   "metadata": {},
   "outputs": [],
   "source": [
    "moralis = moralis.drop([ \n",
    "                \"block_hash\",\n",
    "                \"log_index\",\n",
    "                \"value\",\n",
    "                \"contract_type\",\n",
    "                \"transaction_type\",\n",
    "                \"amount\",\n",
    "                \"verified\",\n",
    "                \"operator\",\n",
    "                \"transaction_index\"\n",
    "                ], axis=1)"
   ]
  },
  {
   "cell_type": "code",
   "execution_count": 31,
   "metadata": {},
   "outputs": [],
   "source": [
    "moralis.columns = ['block_number','timestamp','transaction_hash',\"nft_address\",\"token_id\",\"from_address\",\"to_address\"]"
   ]
  },
  {
   "cell_type": "code",
   "execution_count": 32,
   "metadata": {},
   "outputs": [
    {
     "data": {
      "text/html": [
       "<div>\n",
       "<style scoped>\n",
       "    .dataframe tbody tr th:only-of-type {\n",
       "        vertical-align: middle;\n",
       "    }\n",
       "\n",
       "    .dataframe tbody tr th {\n",
       "        vertical-align: top;\n",
       "    }\n",
       "\n",
       "    .dataframe thead th {\n",
       "        text-align: right;\n",
       "    }\n",
       "</style>\n",
       "<table border=\"1\" class=\"dataframe\">\n",
       "  <thead>\n",
       "    <tr style=\"text-align: right;\">\n",
       "      <th></th>\n",
       "      <th>block_number</th>\n",
       "      <th>timestamp</th>\n",
       "      <th>transaction_hash</th>\n",
       "      <th>nft_address</th>\n",
       "      <th>token_id</th>\n",
       "      <th>from_address</th>\n",
       "      <th>to_address</th>\n",
       "    </tr>\n",
       "  </thead>\n",
       "  <tbody>\n",
       "    <tr>\n",
       "      <th>0</th>\n",
       "      <td>13296011</td>\n",
       "      <td>2021-09-25T16:15:40.000Z</td>\n",
       "      <td>0x51636307c3976abb028df5238077c7ca59db4215fd2e...</td>\n",
       "      <td>0xd3b1ac6d874b8d96f666f25dddddd8d52c5a5c83</td>\n",
       "      <td>1186</td>\n",
       "      <td>0x0000000000000000000000000000000000000000</td>\n",
       "      <td>0x7e3d993a8d63c25d1db5f7ff8a8d6c59091003b1</td>\n",
       "    </tr>\n",
       "  </tbody>\n",
       "</table>\n",
       "</div>"
      ],
      "text/plain": [
       "   block_number                 timestamp  \\\n",
       "0      13296011  2021-09-25T16:15:40.000Z   \n",
       "\n",
       "                                    transaction_hash  \\\n",
       "0  0x51636307c3976abb028df5238077c7ca59db4215fd2e...   \n",
       "\n",
       "                                  nft_address token_id  \\\n",
       "0  0xd3b1ac6d874b8d96f666f25dddddd8d52c5a5c83     1186   \n",
       "\n",
       "                                 from_address  \\\n",
       "0  0x0000000000000000000000000000000000000000   \n",
       "\n",
       "                                   to_address  \n",
       "0  0x7e3d993a8d63c25d1db5f7ff8a8d6c59091003b1  "
      ]
     },
     "execution_count": 32,
     "metadata": {},
     "output_type": "execute_result"
    }
   ],
   "source": [
    "moralis.head(1)"
   ]
  },
  {
   "cell_type": "code",
   "execution_count": 18,
   "metadata": {},
   "outputs": [
    {
     "data": {
      "text/html": [
       "<div>\n",
       "<style scoped>\n",
       "    .dataframe tbody tr th:only-of-type {\n",
       "        vertical-align: middle;\n",
       "    }\n",
       "\n",
       "    .dataframe tbody tr th {\n",
       "        vertical-align: top;\n",
       "    }\n",
       "\n",
       "    .dataframe thead th {\n",
       "        text-align: right;\n",
       "    }\n",
       "</style>\n",
       "<table border=\"1\" class=\"dataframe\">\n",
       "  <thead>\n",
       "    <tr style=\"text-align: right;\">\n",
       "      <th></th>\n",
       "      <th>transaction_hash</th>\n",
       "      <th>block_number</th>\n",
       "      <th>nft_address</th>\n",
       "      <th>token_id</th>\n",
       "      <th>from_address</th>\n",
       "      <th>to_address</th>\n",
       "      <th>timestamp</th>\n",
       "    </tr>\n",
       "  </thead>\n",
       "  <tbody>\n",
       "    <tr>\n",
       "      <th>0</th>\n",
       "      <td>0x0c73daad5e6946e6b2f1374846d6ba3025d6e6a2569f...</td>\n",
       "      <td>12936373</td>\n",
       "      <td>0x629a673a8242c2ac4b7b8c5d8735fbeac21a6205</td>\n",
       "      <td>6682934142305278177002530107138320246486863356...</td>\n",
       "      <td>0x25f1d709b329C7349b8209851E90eFa3a7f60178</td>\n",
       "      <td>0xC69b4c6fFDBaF843A0d0588c99E3C67f27069BEa</td>\n",
       "      <td>1627776481</td>\n",
       "    </tr>\n",
       "  </tbody>\n",
       "</table>\n",
       "</div>"
      ],
      "text/plain": [
       "                                    transaction_hash  block_number  \\\n",
       "0  0x0c73daad5e6946e6b2f1374846d6ba3025d6e6a2569f...      12936373   \n",
       "\n",
       "                                  nft_address  \\\n",
       "0  0x629a673a8242c2ac4b7b8c5d8735fbeac21a6205   \n",
       "\n",
       "                                            token_id  \\\n",
       "0  6682934142305278177002530107138320246486863356...   \n",
       "\n",
       "                                 from_address  \\\n",
       "0  0x25f1d709b329C7349b8209851E90eFa3a7f60178   \n",
       "\n",
       "                                   to_address   timestamp  \n",
       "0  0xC69b4c6fFDBaF843A0d0588c99E3C67f27069BEa  1627776481  "
      ]
     },
     "execution_count": 18,
     "metadata": {},
     "output_type": "execute_result"
    }
   ],
   "source": [
    "ethereum.head(1)"
   ]
  },
  {
   "cell_type": "code",
   "execution_count": 51,
   "metadata": {},
   "outputs": [],
   "source": [
    "ethereum['timestamp'] = pd.to_datetime(ethereum['timestamp'],unit='s')\n",
    "moralis['timestamp'] = pd.to_datetime(moralis['timestamp'])"
   ]
  },
  {
   "cell_type": "code",
   "execution_count": 52,
   "metadata": {},
   "outputs": [],
   "source": [
    "merge = pd.concat([ethereum,moralis]).reset_index(drop=True)"
   ]
  },
  {
   "cell_type": "code",
   "execution_count": 53,
   "metadata": {},
   "outputs": [],
   "source": [
    "groupedByNFT = merge.groupby(\"nft_address\")"
   ]
  },
  {
   "cell_type": "code",
   "execution_count": 73,
   "metadata": {},
   "outputs": [],
   "source": [
    "import numpy as np\n",
    "import datetime\n",
    "\n",
    "def rolling_window(a, window):\n",
    "    shape = a.shape[:-1] + (a.shape[-1] - window + 1, window)\n",
    "    strides = a.strides + (a.strides[-1],)\n",
    "    return np.lib.stride_tricks.as_strided(a, shape=shape, strides=strides)\n",
    "\n",
    "nft_data_list = []\n",
    "row = 0\n",
    "for (nft, groupobject) in groupedByNFT.__iter__():\n",
    "    nft_data = {}\n",
    "\n",
    "    nft_data[\"nft\"] = nft\n",
    "    nft_data[\"uniqueTokens\"] = len(np.unique(groupobject[\"token_id\"]))\n",
    "    nft_data[\"uniqueTransactions\"] = len(np.unique(groupobject[\"transaction_hash\"]))\n",
    "    nft_data[\"uniqueSellers\"] = len(np.unique(groupobject[\"from_address\"]))\n",
    "    nft_data[\"uniqueBuyers\"] = len(np.unique(groupobject[\"to_address\"]))\n",
    "    nft_data[\"uniqueMints\"] = len(groupobject[groupobject[\"from_address\"]==\"0x0000000000000000000000000000000000000000\"])\n",
    "\n",
    "    groupedTokens = groupobject.groupby(\"token_id\")\n",
    "    tokenLength = []\n",
    "    tradeLength = []\n",
    "    for (token, tokenGroup) in groupedTokens.__iter__():\n",
    "        tokenLength.append(len(tokenGroup))\n",
    "    \n",
    "    nft_data[\"stdTransactionsPerToken\"] = np.std(tokenLength)\n",
    "    nft_data[\"meanTransactionsPerToken\"] = np.mean(tokenLength)\n",
    "    nft_data[\"varTransactionsPerToken\"] = np.var(tokenLength)\n",
    "\n",
    "    # nft_data[\"tradeLength\"] = np.var(tradeLength)\n",
    "\n",
    "\n",
    "    nft_data_list.append(nft_data)\n",
    "\n",
    "    row =+ 1\n",
    "    if row == 5: break\n",
    "\n",
    "nft_meta = pd.DataFrame(nft_data_list)"
   ]
  },
  {
   "cell_type": "code",
   "execution_count": 74,
   "metadata": {},
   "outputs": [],
   "source": [
    "nft_meta.to_csv(\"nftMetaData.csv\", index=False)"
   ]
  }
 ],
 "metadata": {
  "interpreter": {
   "hash": "1da05cb5ddfbd67b008953245f39a8fb037fb3bd7635c153834414ad139ba332"
  },
  "kernelspec": {
   "display_name": "Python 3.8.12 ('nftProj')",
   "language": "python",
   "name": "python3"
  },
  "language_info": {
   "codemirror_mode": {
    "name": "ipython",
    "version": 3
   },
   "file_extension": ".py",
   "mimetype": "text/x-python",
   "name": "python",
   "nbconvert_exporter": "python",
   "pygments_lexer": "ipython3",
   "version": "3.8.12"
  },
  "orig_nbformat": 4
 },
 "nbformat": 4,
 "nbformat_minor": 2
}
