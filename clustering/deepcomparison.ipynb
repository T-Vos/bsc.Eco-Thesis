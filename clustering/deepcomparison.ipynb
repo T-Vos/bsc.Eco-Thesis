{
 "cells": [
  {
   "cell_type": "code",
   "execution_count": 2,
   "metadata": {},
   "outputs": [
    {
     "name": "stderr",
     "output_type": "stream",
     "text": [
      "<ipython-input-2-a42ccf6136fc>:15: VisibleDeprecationWarning: Creating an ndarray from ragged nested sequences (which is a list-or-tuple of lists-or-tuples-or ndarrays with different lengths or shapes) is deprecated. If you meant to do this, you must specify 'dtype=object' when creating the ndarray\n",
      "  res = np.array(res)\n"
     ]
    }
   ],
   "source": [
    "import numpy as np\n",
    "import sklearn.metrics as skMetrics\n",
    "import pandas as pd\n",
    "import os\n",
    "\n",
    "res = []\n",
    "\n",
    "filePath = \"./\"\n",
    "for filename in os.listdir(filePath):\n",
    "    if not filename.endswith('csv'): continue # don't read non .csv files\n",
    "    filePath_combined = filePath+filename\n",
    "    newCsv = pd.read_csv(filePath_combined)\n",
    "    res.append(newCsv)\n",
    "\n",
    "res = np.array(res)"
   ]
  },
  {
   "cell_type": "code",
   "execution_count": 5,
   "metadata": {},
   "outputs": [
    {
     "data": {
      "text/plain": [
       "(19,)"
      ]
     },
     "execution_count": 5,
     "metadata": {},
     "output_type": "execute_result"
    }
   ],
   "source": [
    "res.shape[0]\n",
    "# comp_square = np.zeros((comparison,comparison))\n",
    "\n",
    "# for x in range(comparison):\n",
    "#     for y in range(comparison):\n",
    "\n",
    "#         comp_square[x][y] = skMetrics.adjusted_rand_score(res.iloc[x], res.iloc[y])\n",
    "\n",
    "# np.savetxt(\"foo.csv\", comp_square, delimiter=\",\")"
   ]
  }
 ],
 "metadata": {
  "kernelspec": {
   "display_name": "Python 3.8.12 ('thesisProject')",
   "language": "python",
   "name": "python3"
  },
  "language_info": {
   "codemirror_mode": {
    "name": "ipython",
    "version": 3
   },
   "file_extension": ".py",
   "mimetype": "text/x-python",
   "name": "python",
   "nbconvert_exporter": "python",
   "pygments_lexer": "ipython3",
   "version": "3.8.12"
  },
  "orig_nbformat": 4,
  "vscode": {
   "interpreter": {
    "hash": "6744874b6b7d4c11632f5c57904f17b16032f5dfc2e35ec68085b9c698263a2f"
   }
  }
 },
 "nbformat": 4,
 "nbformat_minor": 2
}
