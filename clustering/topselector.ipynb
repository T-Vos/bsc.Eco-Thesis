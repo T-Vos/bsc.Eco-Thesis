{
 "cells": [
  {
   "cell_type": "code",
   "execution_count": 1,
   "metadata": {},
   "outputs": [],
   "source": [
    "import pandas as pd\n",
    "\n",
    "merge = pd.read_csv('../data/merged/20220610merge_withbaselineSymbol-withoutMints.csv')\n",
    "nftAddressNames = pd.read_csv(\"../webscraper/nftNames-baseline.csv\")\n",
    "nftAddress = dict(zip(nftAddressNames[\"address\"],nftAddressNames[\"addressBaselined\"]))"
   ]
  },
  {
   "cell_type": "code",
   "execution_count": 2,
   "metadata": {},
   "outputs": [
    {
     "data": {
      "text/plain": [
       "(5994338, 9)"
      ]
     },
     "execution_count": 2,
     "metadata": {},
     "output_type": "execute_result"
    }
   ],
   "source": [
    "merge.shape"
   ]
  },
  {
   "cell_type": "code",
   "execution_count": 2,
   "metadata": {},
   "outputs": [],
   "source": [
    "merge[\"baseLine\"] = merge[\"nft_address\"]"
   ]
  },
  {
   "cell_type": "code",
   "execution_count": 3,
   "metadata": {},
   "outputs": [
    {
     "name": "stderr",
     "output_type": "stream",
     "text": [
      "<ipython-input-3-4a646c0b5402>:7: SettingWithCopyWarning: \n",
      "A value is trying to be set on a copy of a slice from a DataFrame.\n",
      "Try using .loc[row_indexer,col_indexer] = value instead\n",
      "\n",
      "See the caveats in the documentation: https://pandas.pydata.org/pandas-docs/stable/user_guide/indexing.html#returning-a-view-versus-a-copy\n",
      "  merge.loc[begin:end][\"baseLine\"] = merge.loc[begin:end][\"baseLine\"].replace(nftAddress)\n"
     ]
    },
    {
     "name": "stdout",
     "output_type": "stream",
     "text": [
      "Finished until 99999\n",
      "Finished until 199999\n",
      "Finished until 299999\n",
      "Finished until 399999\n",
      "Finished until 499999\n",
      "Finished until 599999\n",
      "Finished until 699999\n",
      "Finished until 799999\n",
      "Finished until 899999\n",
      "Finished until 999999\n",
      "Finished until 1099999\n",
      "Finished until 1199999\n",
      "Finished until 1299999\n",
      "Finished until 1399999\n",
      "Finished until 1499999\n",
      "Finished until 1599999\n",
      "Finished until 1699999\n",
      "Finished until 1799999\n",
      "Finished until 1899999\n",
      "Finished until 1999999\n",
      "Finished until 2099999\n",
      "Finished until 2199999\n",
      "Finished until 2299999\n",
      "Finished until 2399999\n",
      "Finished until 2499999\n",
      "Finished until 2599999\n",
      "Finished until 2699999\n",
      "Finished until 2799999\n",
      "Finished until 2899999\n",
      "Finished until 2999999\n",
      "Finished until 3099999\n",
      "Finished until 3199999\n",
      "Finished until 3299999\n",
      "Finished until 3399999\n",
      "Finished until 3499999\n",
      "Finished until 3599999\n",
      "Finished until 3699999\n",
      "Finished until 3799999\n",
      "Finished until 3899999\n",
      "Finished until 3999999\n",
      "Finished until 4099999\n",
      "Finished until 4199999\n",
      "Finished until 4299999\n",
      "Finished until 4399999\n",
      "Finished until 4499999\n",
      "Finished until 4599999\n",
      "Finished until 4699999\n",
      "Finished until 4799999\n",
      "Finished until 4899999\n",
      "Finished until 4999999\n",
      "Finished until 5099999\n",
      "Finished until 5199999\n",
      "Finished until 5299999\n",
      "Finished until 5399999\n",
      "Finished until 5499999\n",
      "Finished until 5599999\n",
      "Finished until 5699999\n",
      "Finished until 5799999\n",
      "Finished until 5899999\n",
      "Finished until 5999999\n"
     ]
    }
   ],
   "source": [
    "begin = 0\n",
    "end = 1\n",
    "step = 100000\n",
    "for rangeInt in range(0,merge.shape[0], step):\n",
    "    begin = rangeInt\n",
    "    end = rangeInt + step - 1\n",
    "    merge.loc[begin:end][\"baseLine\"] = merge.loc[begin:end][\"baseLine\"].replace(nftAddress)\n",
    "    print('Finished until',end)"
   ]
  },
  {
   "cell_type": "code",
   "execution_count": 4,
   "metadata": {},
   "outputs": [],
   "source": [
    "merge = pd.read_csv(\"mergewithBaseline.csv\")"
   ]
  },
  {
   "cell_type": "code",
   "execution_count": 5,
   "metadata": {},
   "outputs": [],
   "source": [
    "valueCounts_nftTransfers = merge[\"baseLine\"].value_counts(ascending=False)"
   ]
  },
  {
   "cell_type": "code",
   "execution_count": 9,
   "metadata": {},
   "outputs": [
    {
     "data": {
      "text/plain": [
       "(10611,)"
      ]
     },
     "execution_count": 9,
     "metadata": {},
     "output_type": "execute_result"
    }
   ],
   "source": [
    "valueCounts_nftTransfers.shape"
   ]
  },
  {
   "cell_type": "code",
   "execution_count": 6,
   "metadata": {},
   "outputs": [
    {
     "data": {
      "text/plain": [
       "Index(['0x629A673A8242c2AC4B7B8C5D8735fbeac21A6205',\n",
       "       '0x57f1887a8BF19b14fC0dF6Fd9B2acc9Af147eA85',\n",
       "       '0xa7d8d9ef8D8Ce8992Df33D8b8CF4Aebabd5bD270',\n",
       "       '0x3B3ee1931Dc30C1957379FAc9aba94D1C48a5405',\n",
       "       '0x06012c8cf97BEaD5deAe237070F9587f8E7A266d',\n",
       "       '0xBC4CA0EdA7647A8aB7C2061c2E118A18a936f13D',\n",
       "       '0x1A92f7381B9F03921564a437210bB9396471050C',\n",
       "       '0xBd3531dA5CF5857e7CfAA92426877b022e612cf8',\n",
       "       '0x50f5474724e0Ee42D9a4e711ccFB275809Fd6d4a',\n",
       "       '0xaadba140ae5e4c8a9ef0cc86ea3124b446e3e46a',\n",
       "       ...\n",
       "       '0x335eeef8e93a7a757d9e7912044d9cd264e2b2d8',\n",
       "       '0xcE25E60A89F200B1fA40f6c313047FFe386992c3',\n",
       "       '0x882A47e6070acA3f38Ce6929501F4787803A072b',\n",
       "       '0x15a2d6c2b4b9903c27f50cb8b32160ab17f186e2',\n",
       "       '0x1a2f71468f656e97c2f86541e57189f59951efe7',\n",
       "       '0x06f8b41b72c04b2BbA587Fc7b09dbfb877cA7d04',\n",
       "       '0x05a46f1e545526fb803ff974c790acea34d1f2d6',\n",
       "       '0x9eb30901e1168c3c309e4e7c5eda8bbe15dc81d4',\n",
       "       '0xFb3765E0E7AC73E736566AF913FA58c3cFD686b7',\n",
       "       '0x23c54ac322Cba66EDdcf95c5697b53fc3a8a608c'],\n",
       "      dtype='object', length=200)"
      ]
     },
     "execution_count": 6,
     "metadata": {},
     "output_type": "execute_result"
    }
   ],
   "source": [
    "valueCounts_nftTransfers[:200].keys()"
   ]
  },
  {
   "cell_type": "code",
   "execution_count": 7,
   "metadata": {},
   "outputs": [],
   "source": [
    "merge.to_csv('mergewithBaseline.csv',index=False)"
   ]
  },
  {
   "cell_type": "code",
   "execution_count": 8,
   "metadata": {},
   "outputs": [],
   "source": [
    "valueCounts_nftTransfers.to_csv('counted.csv')"
   ]
  }
 ],
 "metadata": {
  "kernelspec": {
   "display_name": "Python 3.8.12 ('nftProject')",
   "language": "python",
   "name": "python3"
  },
  "language_info": {
   "codemirror_mode": {
    "name": "ipython",
    "version": 3
   },
   "file_extension": ".py",
   "mimetype": "text/x-python",
   "name": "python",
   "nbconvert_exporter": "python",
   "pygments_lexer": "ipython3",
   "version": "3.8.12"
  },
  "orig_nbformat": 4,
  "vscode": {
   "interpreter": {
    "hash": "56d9bb1c7fcb6a3e2a3ba704b25eaae6578b9ae7ea6478b06d120007dfc6135a"
   }
  }
 },
 "nbformat": 4,
 "nbformat_minor": 2
}
